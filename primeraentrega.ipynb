{
  "nbformat": 4,
  "nbformat_minor": 0,
  "metadata": {
    "colab": {
      "name": "primeraentrega.ipynb",
      "provenance": []
    },
    "kernelspec": {
      "name": "python3",
      "display_name": "Python 3"
    },
    "language_info": {
      "name": "python"
    }
  },
  "cells": [
    {
      "cell_type": "code",
      "metadata": {
        "id": "fvlUa1U99OLe"
      },
      "source": [
        ""
      ],
      "execution_count": null,
      "outputs": []
    },
    {
      "cell_type": "markdown",
      "metadata": {
        "id": "0rvE-juX9QVA"
      },
      "source": [
        "# Primera Entrega Proyecto de ciencias de datos \n"
      ]
    },
    {
      "cell_type": "markdown",
      "metadata": {
        "id": "5o6x0rD89i2q"
      },
      "source": [
        "Mi proyecto esta enfocado en una empreza importadora de productos el cual esta interesado en saber como fluctua el precio de el dolar y como podemos de alguna manera predecir el valor de el dolar en un dia semana o mes. Sabemos que este problema no es sencillo pero gracias al machine learning podemos utilizar un patron para saber cuando es mas probable que aumente y cuando que baje el precio. \n",
        "\n",
        "El objetivo de la empresa es lograr tener los mayores rendimientos comprando mercancia en dolares y re vendiendola en colombia en pesos, para mantener su competetividad es necesario que tenga los precios en pesos lo mas bajos posibles.\n",
        "\n",
        "Con un buen algoritmo de prediccion podremos en teoria elegir el mejor momento para comprar en el exterior en dolares y lograr los mejores beneficios para la importadora.\n",
        "\n",
        "Para el proyecto tenemos la data de el banco de la republica de colombia, estos nos dan el valor del dolar a pesasos desde 1991 o en cualquier intervalo que deseemos conocer, en esta informacion encontramos el valor de forma diaria.\n",
        "\n",
        "El mayor desafio de este proyecto es lograr tener un buen algortimo de maching learning que logre predecir con seguridad este valor, aunque este algoritmo no logre ser 100 % correcto sabemos que el problema volatid del dolar es un echo y solo podemos llegar a tener cierto grado de acertividad que es lo que buscamos. \n",
        "\n",
        "Vamos a utilizar una cantidad de datos para que el algoritmo se entrene y luego el resto para probarla con estos datos tendremos una idea de que tan exacto logra ser nuestro programa, esta sera una idea de como podria llegar a funcionar. \n",
        "\n",
        "Si logramos tener un algoritmo acertado podemos empezar a ver cuanto es el tiempo en que funciona mejor dias semanas horas para esto sera necesario utilizar mas datos que se pueden encontrar en diferentes paginas web no desde 1991 como en la pagina del banco de la republica.\n",
        "\n",
        "La primera parte del proyecto es conseguir la data de el precio del dolar, como nuestra data incial sera la del banco de la republica y esta está disponible. \n",
        "\n",
        "La segunda parte de el protecto estara en limpiar los datos sabemos que hemos tenido eventos que pueden afectar las lecturas del algoritmo, tendremos que evaluar si debemos quitar o tratar con cuidado estos.\n",
        "\n"
      ]
    },
    {
      "cell_type": "markdown",
      "metadata": {
        "id": "EB6bHkyHMj7A"
      },
      "source": [
        "\n",
        "1 semana -------> conseguir los datos \n",
        "Se deberan buscar los datos de el banco de la republica y si es posible de otras fuentes que nos den el valor de el dolar no solo diario.\n",
        "---\n",
        "2 semanas ------> limpiar datos \n",
        "verificar la acertividad de nuestros datos, es necesario quitar alguno o que herramienta se utilizara.\n",
        "---\n",
        " 4 semanas ------> algoritmo de maching learning \n",
        "Esta sera la face mas critica de el proyecto en esta es necesario crear y probar el algoritmo, aparte evaluar que posibles retos tendremos. Talvez sea necesario buscar un asesor o mas datos para las pruebas. \n",
        "---\n",
        "1 semana -----> Pruebas del programa \n",
        "Se probara el algoritmo y se evaluara que tan preciso es y que otros problemas puedes estar apareciendo, tambien el grado de eficacia con la que esta funcionando. \n",
        "\n",
        "\n",
        "\n"
      ]
    }
  ]
}