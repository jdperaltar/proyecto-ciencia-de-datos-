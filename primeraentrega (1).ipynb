{
  "nbformat": 4,
  "nbformat_minor": 0,
  "metadata": {
    "colab": {
      "name": "primeraentrega.ipynb",
      "provenance": [],
      "collapsed_sections": []
    },
    "kernelspec": {
      "name": "python3",
      "display_name": "Python 3"
    },
    "language_info": {
      "name": "python"
    }
  },
  "cells": [
    {
      "cell_type": "code",
      "metadata": {
        "id": "fvlUa1U99OLe"
      },
      "source": [
        ""
      ],
      "execution_count": null,
      "outputs": []
    },
    {
      "cell_type": "markdown",
      "metadata": {
        "id": "0rvE-juX9QVA"
      },
      "source": [
        "# Primera Entrega Proyecto de ciencias de datos \n"
      ]
    },
    {
      "cell_type": "markdown",
      "metadata": {
        "id": "VyBZuWVEhIPX"
      },
      "source": [
        "Mi proyecto está enfocado en una empresa importadora de productos el cual está interesado en saber cómo fluctúa el precio del dólar y cómo podemos de alguna manera predecir el valor del dólar en un día semana o mes. Sabemos que este problema no es sencillo pero gracias al machine learning podemos utilizar un patrón para saber cuándo es más probable que aumente y cuando que baje el precio.\n",
        "El objetivo de la empresa es lograr tener los mayores rendimientos comprando mercancía en dólares y re vendiéndola en Colombia en pesos, para mantener su competitividad es necesario que tenga los precios en pesos lo mas bajos posibles.\n",
        "Con un buen algoritmo de predicción podremos en teoría elegir el mejor momento para comprar en el exterior en dólares y lograr los mejores beneficios para la importadora.\n",
        "Para el proyecto tenemos la data del banco de la república de Colombia, estos nos dan el valor del dólar a pesos desde 1991 o en cualquier intervalo que deseemos conocer, en esta información encontramos el valor de forma diaria.\n",
        "El mayor desafío de este proyecto es lograr tener un buen algoritmo de maching learning que logre predecir con seguridad este valor, aunque este algoritmo no logre ser 100 % correcto sabemos que el problema volátil del dólar es un hecho y solo podemos llegar a tener cierto grado de asertividad que es lo que buscamos.\n",
        "Vamos a utilizar una cantidad de datos para que el algoritmo se entrene y luego el resto para probarla con estos datos tendremos una idea de que tan exacto logra ser nuestro programa, esta será una idea de cómo podría llegar a funcionar.\n",
        "Si logramos tener un algoritmo acertado podemos empezar a ver cuánto es el tiempo en que funciona mejor días semanas horas para esto será necesario utilizar más datos que se pueden encontrar en diferentes páginas web no desde 1991 como en la página del banco de la república.\n",
        "La primera parte del proyecto es conseguir la data del precio del dólar, como nuestra data uncial será la del banco de la república y esta está disponible.\n",
        "La segunda parte del proyecto estará en limpiar los datos sabemos que hemos tenido eventos que pueden afectar las lecturas del algoritmo, tendremos que evaluar si debemos quitar o tratar con cuidado estos.\n"
      ]
    },
    {
      "cell_type": "markdown",
      "metadata": {
        "id": "5QrbewkRhj_V"
      },
      "source": [
        "1 semana -------> conseguir los datos\n",
        "\n",
        "Se deberán buscar los datos del banco de la república y si es posible de otras fuentes que nos den el valor del dólar no solo diario.\n",
        "\n",
        "2 semanas ------> limpiar datos\n",
        "\n",
        "Verificar la asertividad de nuestros datos, es necesario quitar alguno o que herramienta se utilizara.\n",
        "\n",
        "4 semanas ------> algoritmo de maching learning\n",
        "\n",
        "Esta será la fase más crítica del proyecto en esta es necesario crear y probar el algoritmo, aparte evaluar que posibles retos tendremos. Talvez sea necesario buscar un asesor o más datos para las pruebas.\n",
        "\n",
        "1 semana -----> Pruebas del programa\n",
        "Se probara el algoritmo y se evaluara que tan preciso es y que otros problemas puedes estar apareciendo, también el grado de eficacia con la que está funcionando\n"
      ]
    }
  ]
}